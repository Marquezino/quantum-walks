{
 "metadata": {
  "name": ""
 },
 "nbformat": 3,
 "nbformat_minor": 0,
 "worksheets": [
  {
   "cells": [
    {
     "cell_type": "heading",
     "level": 1,
     "metadata": {},
     "source": [
      "Matrizes para caminhada qu\u00e2ntica na malha bidimensional"
     ]
    },
    {
     "cell_type": "markdown",
     "metadata": {},
     "source": [
      "por \n",
      "\n",
      "Franklin Marquezino  \n",
      "Universidade Federal do Rio de Janeiro  \n",
      "URL: <http://www.cos.ufrj.br/~franklin>  \n",
      "Email: <franklin@cos.ufrj.br>\n",
      "\n",
      "Nesse arquivo vou descrever as matrizes que ser\u00e3o necess\u00e1rias para nossa simula\u00e7\u00e3o. Para tornar o estudo mais f\u00e1cil de acompanhar, vou come\u00e7ar pelo caso 1D e depois passar para o caso 2D antes de generalizar para outros grafos regulares.\n",
      "\n",
      "Primeiramente, temos que importar algumas bibliotecas do Python. Estou usando o Python 3, mas creio que tudo (ou quase tudo) deve funcionar tamb\u00e9m no Python 2. Talvez voc\u00ea precise instalar as bibliotecas Networkx, Matplotlib, Numpy, entre outras. Geralmente, isso \u00e9 feito no Ubuntu por meio do comando 'sudo apt-get install python-biblioteca', ou 'sudo apt-get install python3-biblioteca', ou algo parecido."
     ]
    },
    {
     "cell_type": "code",
     "collapsed": false,
     "input": [
      "import numpy as np"
     ],
     "language": "python",
     "metadata": {},
     "outputs": [],
     "prompt_number": 1
    },
    {
     "cell_type": "code",
     "collapsed": false,
     "input": [
      "import matplotlib.pyplot as plt"
     ],
     "language": "python",
     "metadata": {},
     "outputs": [],
     "prompt_number": 2
    },
    {
     "cell_type": "code",
     "collapsed": false,
     "input": [
      "%matplotlib inline"
     ],
     "language": "python",
     "metadata": {},
     "outputs": [],
     "prompt_number": 3
    },
    {
     "cell_type": "code",
     "collapsed": false,
     "input": [
      "size = 201 # Tamanho do lado da malha\n",
      "verbose = False # Define se alguns prints devem ser ativados\n",
      "\n",
      "if size>10 and verbose:\n",
      "    print('Cuidado! Algumas sa\u00eddas podem ficar ileg\u00edveis para esse tamanho de malha.')\n",
      "    print('Sugiro definir verbose=False ou diminuir a malha.')"
     ],
     "language": "python",
     "metadata": {},
     "outputs": [],
     "prompt_number": 4
    },
    {
     "cell_type": "heading",
     "level": 2,
     "metadata": {},
     "source": [
      "1. Defini\u00e7\u00f5es do espa\u00e7o de Hilbert"
     ]
    },
    {
     "cell_type": "markdown",
     "metadata": {},
     "source": [
      "De acordo com o primeiro postulado, o estado do caminhante qu\u00e2ntico deve ser um vetor unit\u00e1rio num espa\u00e7o de Hilbert. Em nosso exemplo, consideramos que o caminhante ocupa uma *posi\u00e7\u00e3o* no grafo linha com n\u00famero de v\u00e9rtices (n\u00f3s) igual a `size`. Portanto, o espa\u00e7o de Hilbert associado a posi\u00e7\u00e3o \u00e9 $\\mathcal{H}_\\mbox{P}$ de dimens\u00e3o igual a `size`. A base de $\\mathcal{H}_\\mbox{size}$ pode ser denotada $\\{ | x \\rangle : 0 \\leq x < 100 \\}$.\n",
      "\n",
      "Para funcionar como esperamos, o caminhante qu\u00e2ntico discreto no tempo ainda precisa de um grau de liberdade adicional, al\u00e9m da posi\u00e7\u00e3o. Esse grau de liberdade n\u00f3s chamamos de *moeda*, pois desempenha um papel semelhante ao lan\u00e7amento de uma moeda quando comparado ao random walk cl\u00e1ssico. Para entender melhor a necessidade de termos essa \"moeda qu\u00e2ntica\", consulte minha tese de doutorado. Por enquanto, basta consideramos que, de acordo com o primeiro postulado, essa moeda qu\u00e2ntica tamb\u00e9m precisa ser representada por um vetor unit\u00e1rio num espa\u00e7o de Hilbert. O espa\u00e7o de Hilbert associado a moeda \u00e9 $\\mathcal{H}_\\mbox{M}$ de dimens\u00e3o igual a 2. (Note que s\u00f3 temos dois resultados poss\u00edveis para o \"lan\u00e7amento da moeda\" nesse caso: o caminhante pode ir para a esquerda ou para a direita.) A base de $\\mathcal{H}_\\mbox{M}$ pode ser denotada $\\{ | m \\rangle : 0 \\leq m \\leq 1 \\}$.\n",
      "\n",
      "De acordo com o terceiro postulado da mec\u00e2nica qu\u00e2ntica, o estado do caminhante \u00e9 um vetor unit\u00e1rio no espa\u00e7o $\\mathcal{H}_\\mbox{M} \\otimes \\mathcal{H}_\\mbox{P}$. Ou seja, \u00e9 um vetor que num instante de tempo $t$ qualquer pode ser escrito como\n",
      "$$| \\Psi (t) \\rangle = \\sum_{m=0}^{1} \\sum_{x=0}^{\\mbox{size}-1} \\psi_{m;x}(t) | m \\rangle \\otimes | x \\rangle,$$\n",
      "com $\\psi_{m;x} \\in \\mathbb{C}$.\n",
      "Para que esse vetor seja unit\u00e1rio, precisamos que $\\sum_{m}\\sum_{x} |\\psi_{m;x}(t)|^2 = 1.$\n",
      "\n",
      "Vejamos como fica isso no Python! Nosso estado inicial ser\u00e1 \n",
      "$$| \\Psi (0) \\rangle = \\left(\\dfrac{ |0\\rangle + i|1\\rangle }{\\sqrt{2}} \\right) \\otimes | \\frac{\\mbox{size}}{2} \\rangle,$$\n",
      "ou seja, a moeda \u00e9 uma superposi\u00e7\u00e3o dos dois estados poss\u00edveis; e a posi\u00e7\u00e3o \u00e9 o \"meio\" da linha. Mais tarde, voc\u00ea pode trocar essa condi\u00e7\u00e3o inicial e re-executar o notebook para ver como ela influencia o resultado final."
     ]
    },
    {
     "cell_type": "code",
     "collapsed": false,
     "input": [
      "coinState = np.array([0.5, 0.5j, 0.5j, -0.5], dtype=complex)\n",
      "print(coinState)"
     ],
     "language": "python",
     "metadata": {},
     "outputs": [
      {
       "output_type": "stream",
       "stream": "stdout",
       "text": [
        "[ 0.5+0.j   0.0+0.5j  0.0+0.5j -0.5+0.j ]\n"
       ]
      }
     ],
     "prompt_number": 5
    },
    {
     "cell_type": "code",
     "collapsed": false,
     "input": [
      "positionState = np.zeros(size, dtype=complex)\n",
      "positionState[int(size/2)] = 1.0\n",
      "\n",
      "\"\"\" Para ativar os prints abaixo, a var\u00edavel 'verbose' deve ter sido definida como True. Isso s\u00f3 deve ser feito\n",
      "    juntamente com um valor pequeno para a vari\u00e1vel size; digamos, size=10. Caso contr\u00e1rio, a sa\u00edda ficar\u00e1 ileg\u00edvel. \n",
      "    Recomendo que voc\u00ea execute essa se\u00e7\u00e3o do notebook pelo menos uma vez com os prints ativados, para ajudar no\n",
      "    entendimento. Alguns gr\u00e1ficos a partir da pr\u00f3xima se\u00e7\u00e3o, entretanto, ficar\u00e3o leg\u00edveis somente com valores altos \n",
      "    em size. \"\"\"\n",
      "\n",
      "if verbose:\n",
      "    print(positionState)"
     ],
     "language": "python",
     "metadata": {},
     "outputs": [],
     "prompt_number": 6
    },
    {
     "cell_type": "code",
     "collapsed": false,
     "input": [
      "Psi = np.kron(coinState, positionState)\n",
      "\n",
      "if verbose:\n",
      "    print(Psi)"
     ],
     "language": "python",
     "metadata": {},
     "outputs": [],
     "prompt_number": 7
    },
    {
     "cell_type": "markdown",
     "metadata": {},
     "source": [
      "Vamos confirmar que a norma de $| \\Psi \\rangle$ \u00e9 igual a 1. Ficamos satisfeitos se for um n\u00famero muito pr\u00f3ximo de 1, levando em considera\u00e7\u00e3o que pode haver erros de arredondamento t\u00edpicos dos c\u00e1lculos num\u00e9ricos."
     ]
    },
    {
     "cell_type": "code",
     "collapsed": false,
     "input": [
      "np.linalg.norm(Psi)"
     ],
     "language": "python",
     "metadata": {},
     "outputs": [
      {
       "metadata": {},
       "output_type": "pyout",
       "prompt_number": 8,
       "text": [
        "0.99999999999999989"
       ]
      }
     ],
     "prompt_number": 8
    },
    {
     "cell_type": "markdown",
     "metadata": {},
     "source": [
      "Para saber a distribui\u00e7\u00e3o de probabilidades na posi\u00e7\u00e3o do caminhante, precisamos aplicar o quarto postulado da mec\u00e2nica qu\u00e2ntica. Voc\u00ea pode encontrar detalhes na minha tese de doutorado. Por enquanto, podemos resumir no seguinte. A probabilidade de, no instante $t$, realizar uma medi\u00e7\u00e3o e encontrar o caminhante na posi\u00e7\u00e3o $x$, \u00e9 dada por\n",
      "$$p(x, t) = \\sum_{m=0}^{1} |\\psi_{m;x}(t)|^2.$$\n",
      "\n",
      "Como vamos implementar isso no Python? Precisamos fazer um somat\u00f3rio fixando a posi\u00e7\u00e3o e variando a moeda. No entanto, depois que aplicamos o produto de Kronecker, nosso vetor de estado ficou *aparentemente* misturado. Ou seja, s\u00f3 tem *um* \u00edndice para percorrer. Complicado? Nem tanto. Se analisarmos com cuidado como funciona o produto de Kronecker, veremos que podemos identificar precisamente quais entradas do vetor correspondem ao estado da moeda $m=0$, e quais correspondem ao estado da moeda $m=1$. Fica mais f\u00e1cil ainda se reorganizarmos o nosso vetor, usando o comando `reshape` do Numpy. Se voc\u00ea tiver definido a vari\u00e1vel `verbose` como `True`, poder\u00e1 ver o comando `reshape` em funcionamento logo abaixo:"
     ]
    },
    {
     "cell_type": "code",
     "collapsed": false,
     "input": [
      "if verbose:\n",
      "    print('Assim \u00e9 o vetor: \\n', Psi)\n",
      "    \n",
      "    print('\\nReorganizando as entradas (sem alterar os valores) ele vai ficar assim: ')\n",
      "    Psi = Psi.reshape((2,size))\n",
      "    print(Psi)\n",
      "    print('Esse formado facilita o c\u00e1lculo das probabilidades na malha 1D.')\n",
      "    \n",
      "    print('\\nA qualquer momento posso voltar ao que t\u00ednhamos antes. Veja: ')\n",
      "    Psi = Psi.reshape((2*size,))\n",
      "    print(Psi)"
     ],
     "language": "python",
     "metadata": {},
     "outputs": [],
     "prompt_number": 9
    },
    {
     "cell_type": "markdown",
     "metadata": {},
     "source": [
      "Agora sim, usando essa ideia fica f\u00e1cil calcular as probabilidades no Python! Vejamos:"
     ]
    },
    {
     "cell_type": "code",
     "collapsed": false,
     "input": [
      "def get_prob(stateVector, position):\n",
      "    stateVector = stateVector.reshape((2,size))\n",
      "    prob = np.abs(stateVector[0, position])**2 + np.abs(stateVector[1, position])**2\n",
      "    stateVector = stateVector.reshape((2*size,))\n",
      "    return prob"
     ],
     "language": "python",
     "metadata": {},
     "outputs": [],
     "prompt_number": 10
    },
    {
     "cell_type": "markdown",
     "metadata": {},
     "source": [
      "O caminhante inicialmente est\u00e1 localizado no meio da linha, pois assim o definimos. Portanto, a probabilidade de encontr\u00e1-lo nessa posi\u00e7\u00e3o deve ser 1. Vejamos:"
     ]
    },
    {
     "cell_type": "code",
     "collapsed": false,
     "input": [
      "get_prob(Psi, size/2)"
     ],
     "language": "python",
     "metadata": {},
     "outputs": [
      {
       "metadata": {},
       "output_type": "pyout",
       "prompt_number": 11,
       "text": [
        "0.99999999999999978"
       ]
      }
     ],
     "prompt_number": 11
    },
    {
     "cell_type": "markdown",
     "metadata": {},
     "source": [
      "E a probabilidade de encontr\u00e1-lo em qualquer outra posi\u00e7\u00e3o deve ser 0. Vejamos:"
     ]
    },
    {
     "cell_type": "code",
     "collapsed": false,
     "input": [
      "get_prob(Psi, 0)"
     ],
     "language": "python",
     "metadata": {},
     "outputs": [
      {
       "metadata": {},
       "output_type": "pyout",
       "prompt_number": 12,
       "text": [
        "0.0"
       ]
      }
     ],
     "prompt_number": 12
    },
    {
     "cell_type": "markdown",
     "metadata": {},
     "source": [
      "Vamos agora plotar o gr\u00e1fico da distribui\u00e7\u00e3o de probabilidades."
     ]
    },
    {
     "cell_type": "code",
     "collapsed": false,
     "input": [
      "# Deve ter uma forma mais \"Pythonica\" de escrever o c\u00f3digo abaixo. Por enquanto, essa \"gambiarra\" vai funcionar.\n",
      "\n",
      "Prob = np.zeros(size)\n",
      "for position in range(size):\n",
      "    Prob[position] = get_prob(Psi, position)"
     ],
     "language": "python",
     "metadata": {},
     "outputs": [],
     "prompt_number": 13
    },
    {
     "cell_type": "code",
     "collapsed": false,
     "input": [
      "plt.xlabel('posi\u00e7\u00e3o')\n",
      "plt.ylabel('probabilidade')\n",
      "plt.grid(True)\n",
      "plt.plot(range(size), Prob)"
     ],
     "language": "python",
     "metadata": {},
     "outputs": [
      {
       "metadata": {},
       "output_type": "pyout",
       "prompt_number": 14,
       "text": [
        "[<matplotlib.lines.Line2D at 0x7f293c5d3588>]"
       ]
      },
      {
       "metadata": {},
       "output_type": "display_data",
       "png": "[encoded data removed]",
       "text": [
        "<matplotlib.figure.Figure at 0x7f293cb09630>"
       ]
      }
     ],
     "prompt_number": 14
    },
    {
     "cell_type": "markdown",
     "metadata": {},
     "source": [
      "Agora que definimos o estado do caminhante, podemos finalmente coloc\u00e1-lo para caminhar. Para isso, devemos continuar respeitando os postulados da mec\u00e2nica qu\u00e2ntica. Veremos isso na pr\u00f3xima se\u00e7\u00e3o."
     ]
    },
    {
     "cell_type": "heading",
     "level": 2,
     "metadata": {},
     "source": [
      "2. Defini\u00e7\u00f5es da caminhada"
     ]
    },
    {
     "cell_type": "markdown",
     "metadata": {},
     "source": [
      "A evolu\u00e7\u00e3o da caminhada qu\u00e2ntica se d\u00e1 por um operador unit\u00e1rio da forma $U = S(C \\otimes I)$. A matriz $C$ \u00e9 o operador moeda, e atua somente no subespa\u00e7o $\\mathcal{H}_M$. Em princ\u00edpio, $C$ pode ser qualquer operador unit\u00e1rio de dimens\u00e3o compat\u00edvel com $\\mathcal{H}_M$. Nesse exemplo, vamos tomar $C$ como a matriz de Hadamard. Veja a defini\u00e7\u00e3o na minha tese de doutorado. A matriz $I$ \u00e9 a identidade que atua no espa\u00e7o $\\mathcal{H}_P$. A matriz $S$ \u00e9 o operador deslocamento, que atua no espa\u00e7o $\\mathcal{H}_M \\otimes \\mathcal{H}_P$.\n",
      "\n",
      "Vamos definir esses operadores, um de cada vez."
     ]
    },
    {
     "cell_type": "code",
     "collapsed": false,
     "input": [
      "hadamardCoin = np.array([[1.0, 1.0],\n",
      "                       [1.0, -1.0]]) / np.sqrt(2)\n",
      "print(hadamardCoin)"
     ],
     "language": "python",
     "metadata": {},
     "outputs": [
      {
       "output_type": "stream",
       "stream": "stdout",
       "text": [
        "[[ 0.70710678  0.70710678]\n",
        " [ 0.70710678 -0.70710678]]\n"
       ]
      }
     ],
     "prompt_number": 15
    },
    {
     "cell_type": "markdown",
     "metadata": {},
     "source": [
      "A matriz anterior atua somente no espa\u00e7o moeda. Para termos o operador moeda que atua no espa\u00e7o composto, ainda precisamos fazer o produto tensorial com o operador identidade que atua no espa\u00e7o posi\u00e7\u00e3o. Faremos isso a seguir:"
     ]
    },
    {
     "cell_type": "code",
     "collapsed": false,
     "input": [
      "Coin = np.kron(hadamardCoin, np.eye(size))"
     ],
     "language": "python",
     "metadata": {},
     "outputs": [],
     "prompt_number": 16
    },
    {
     "cell_type": "code",
     "collapsed": false,
     "input": [
      "# checando se \u00e9 unit\u00e1ria\n",
      "np.testing.assert_allclose( np.dot(Coin, Coin.T.conj()), np.eye(2*size) )"
     ],
     "language": "python",
     "metadata": {},
     "outputs": [],
     "prompt_number": 17
    },
    {
     "cell_type": "markdown",
     "metadata": {},
     "source": [
      "Agora vamos definir o operador deslocamento. Esse operador modifica a posi\u00e7\u00e3o de forma dependente da moeda. A estrutura dele, portanto, \u00e9 um pouco mais complicada. Para entender como ele funciona, vamos por partes. Primeiro: quando a moeda \u00e9, digamos, $|0\\rangle$, queremos que o caminhante se mova para a direita; e quando a moeda \u00e9 $|1\\rangle$, queremos que o caminhante se mova para a esquerda. Portanto, ao aplicar o operador $S$ queremos o seguinte efeito:\n",
      "$$S|m\\rangle |x\\rangle = |m\\rangle |x + (-1)^m\\rangle,$$\n",
      "para $m\\in\\{0,1\\}$, e para $0< x < \\mbox{size-1}$. Note que aqui usei desigualdade estrita, pois os contornos devem ser tratado como casos \u00e0 parte -- afinal, quando o caminhante j\u00e1 est\u00e1 em $|0\\rangle$, ele n\u00e3o consegue se mover para a esquerda; e quando j\u00e1 est\u00e1 em $|1\\rangle$, ele n\u00e3o consegue se mover para a direita. Os casos especiais podem ser definidos de diversas formas, dependendo se a condi\u00e7\u00e3o de contorno \u00e9 reflexiva, peri\u00f3dica, etc. Por exemplo, por simplicidade, vamos considerar que seja peri\u00f3dica. Assim, temos uma nota\u00e7\u00e3o bastante compacta para a matriz associada ao operador $S$, a saber,\n",
      "$$S = \\sum_{m=0}^{1}\\sum_{x=0}^{\\mbox{size}-1} |m\\rangle \\langle m| \\otimes | x+(-1)^m \\rangle \\langle x |,$$\n",
      "em que a opera\u00e7\u00e3o de soma deve ser realizada modulo `size`."
     ]
    },
    {
     "cell_type": "code",
     "collapsed": false,
     "input": [
      "def ket(index, dimension=2):\n",
      "    vec = np.zeros((dimension,1), dtype=complex)\n",
      "    vec[index,0] = 1.0\n",
      "    return vec"
     ],
     "language": "python",
     "metadata": {},
     "outputs": [],
     "prompt_number": 18
    },
    {
     "cell_type": "code",
     "collapsed": false,
     "input": [
      "def bra(index, dimension=2):\n",
      "    vec = np.zeros((1,dimension), dtype=complex)\n",
      "    vec[0,index] = 1.0\n",
      "    return vec"
     ],
     "language": "python",
     "metadata": {},
     "outputs": [],
     "prompt_number": 19
    },
    {
     "cell_type": "code",
     "collapsed": false,
     "input": [
      "Shift = np.zeros((2*size, 2*size), dtype=complex)\n",
      "\n",
      "for x in range(0,size):\n",
      "    for m in [0,1]:\n",
      "        Shift += np.kron( np.dot(ket(m, 2),bra(m, 2)),\n",
      "                          np.dot( ket((x+(-1)**m) % size, size), bra(x, size)))"
     ],
     "language": "python",
     "metadata": {},
     "outputs": [],
     "prompt_number": 20
    },
    {
     "cell_type": "code",
     "collapsed": false,
     "input": [
      "# checando se \u00e9 unit\u00e1ria\n",
      "np.testing.assert_allclose( np.dot(Shift, Shift.T.conj()), np.eye(2*size, dtype=complex) )"
     ],
     "language": "python",
     "metadata": {},
     "outputs": [],
     "prompt_number": 21
    },
    {
     "cell_type": "markdown",
     "metadata": {},
     "source": [
      "Agora sim, temos tudo que precisamos para definir o operador de evolu\u00e7\u00e3o $U$."
     ]
    },
    {
     "cell_type": "code",
     "collapsed": false,
     "input": [
      "U = np.dot(Coin, Shift)"
     ],
     "language": "python",
     "metadata": {},
     "outputs": [],
     "prompt_number": 22
    },
    {
     "cell_type": "code",
     "collapsed": false,
     "input": [
      "# checando se \u00e9 unit\u00e1ria\n",
      "np.testing.assert_allclose( np.dot(U, U.T.conj()), np.eye(2*size) )"
     ],
     "language": "python",
     "metadata": {},
     "outputs": [],
     "prompt_number": 23
    },
    {
     "cell_type": "heading",
     "level": 2,
     "metadata": {},
     "source": [
      "3. Simula\u00e7\u00e3o da caminhada"
     ]
    },
    {
     "cell_type": "markdown",
     "metadata": {},
     "source": [
      "Para simular a caminhada qu\u00e2ntica na reta, defina o n\u00famero de passos por meio da vari\u00e1vel `tempo` abaixo. Se quiser, voc\u00ea pode voltar ao comando em que definimos o estado inicial do caminhante, e pode modific\u00e1-lo para testar diferentes cen\u00e1rios. Dado que o caminhante inicialmente encontrava-se no estado $|\\Psi (0) \\rangle$, depois de $t$ passos da caminhada ele estar\u00e1 no estado $|\\Psi (t)\\rangle = U^t |0\\rangle.$"
     ]
    },
    {
     "cell_type": "code",
     "collapsed": false,
     "input": [
      "tempo = 100"
     ],
     "language": "python",
     "metadata": {},
     "outputs": [],
     "prompt_number": 24
    },
    {
     "cell_type": "code",
     "collapsed": false,
     "input": [
      "for t in range(tempo):\n",
      "    Psi = np.dot(U, Psi)\n",
      "    np.testing.assert_allclose(np.linalg.norm(Psi), 1.0)"
     ],
     "language": "python",
     "metadata": {},
     "outputs": [],
     "prompt_number": 25
    },
    {
     "cell_type": "code",
     "collapsed": false,
     "input": [
      "# Deve ter uma forma mais \"Pythonica\" de escrever o c\u00f3digo abaixo. Por enquanto, essa \"gambiarra\" vai funcionar.\n",
      "\n",
      "Prob = np.zeros(size)\n",
      "for position in range(size):\n",
      "    Prob[position] = get_prob(Psi, position)"
     ],
     "language": "python",
     "metadata": {},
     "outputs": [],
     "prompt_number": 26
    },
    {
     "cell_type": "code",
     "collapsed": false,
     "input": [
      "plt.xlabel('posi\u00e7\u00e3o')\n",
      "plt.ylabel('probabilidade')\n",
      "plt.grid(True)\n",
      "plt.plot(range(size), Prob)"
     ],
     "language": "python",
     "metadata": {},
     "outputs": [
      {
       "metadata": {},
       "output_type": "pyout",
       "prompt_number": 27,
       "text": [
        "[<matplotlib.lines.Line2D at 0x7f293c237198>]"
       ]
      },
      {
       "metadata": {},
       "output_type": "display_data",
       "png": "[encoded data removed]",
       "text": [
        "<matplotlib.figure.Figure at 0x7f293c630748>"
       ]
      }
     ],
     "prompt_number": 27
    },
    {
     "cell_type": "code",
     "collapsed": false,
     "input": [],
     "language": "python",
     "metadata": {},
     "outputs": []
    },
    {
     "cell_type": "markdown",
     "metadata": {},
     "source": [
      "Espero que tenha sido \u00fatil. Voc\u00ea pode agora clicar em `Kernel / Restart`, voltar ao in\u00edcio do notebook e repetir os comandos, fazendo modifica\u00e7\u00f5es de acordo com sua curiosidade."
     ]
    },
    {
     "cell_type": "heading",
     "level": 2,
     "metadata": {},
     "source": [
      "Refer\u00eancias"
     ]
    },
    {
     "cell_type": "markdown",
     "metadata": {},
     "source": [
      "0. Marquezino, F.L., \"An\u00e1lise, simula\u00e7\u00f5es e aplica\u00e7\u00f5es algor\u00edtmicas de caminhadas qu\u00e2nticas\". Tese de Doutorado. Laborat\u00f3rio Nacional de Computa\u00e7\u00e3o Cient\u00edcia, Petr\u00f3polis, 2010. Dispon\u00edvel em <http://qubit.lncc.br/files/flmarquezino_phd.pdf>.\n",
      "0. Marquezino, F.L. and Portugal, R., \"The QWalk Simulator of Quantum Walks\". Computer Physics Communications, Volume 179, Issue 5, pages 359-369, 2008. Preprint dispon\u00edvel em <http://arxiv.org/abs/0803.3459>.\n",
      "0. Portugal, R., Lavor, C.C., Carvalho, L.M. and Maculan, N., \"Uma introdu\u00e7\u00e3o \u00e0 Computa\u00e7\u00e3o Qu\u00e2ntica\", Notas em Matem\u00e1tica Aplicada, SBMAC, 2004. Dispon\u00edvel em <http://www.sbmac.org.br/boletim/pdf_2004/livro_08_2004.pdf>."
     ]
    }
   ],
   "metadata": {}
  }
 ]
}