{
 "metadata": {
  "name": ""
 },
 "nbformat": 3,
 "nbformat_minor": 0,
 "worksheets": [
  {
   "cells": [
    {
     "cell_type": "heading",
     "level": 1,
     "metadata": {},
     "source": [
      "Matrizes para caminhadas qu\u00e2nticas em grafos regulares\n"
     ]
    },
    {
     "cell_type": "markdown",
     "metadata": {},
     "source": [
      "por Franklin Marquezino -- franklin@cos.ufrj.br\n",
      "\n",
      "Nesse arquivo vou descrever as matrizes que ser\u00e3o necess\u00e1rias para nossa simula\u00e7\u00e3o. Primeiramente, temos que importar algumas bibliotecas do Python. Estou usando o Python 3, mas creio que tudo (ou quase tudo) deve funcionar tamb\u00e9m no Python 2. Talvez voc\u00ea precise instalar as bibliotecas Networkx, Matplotlib, Numpy, entre outras. Geralmente, isso \u00e9 feito no Ubunto por meio do comando 'sudo apt-get install python-biblioteca', ou 'sudo apt-get install python3-biblioteca', ou algo parecido."
     ]
    },
    {
     "cell_type": "code",
     "collapsed": false,
     "input": [
      "import numpy as np"
     ],
     "language": "python",
     "metadata": {},
     "outputs": [],
     "prompt_number": 1
    },
    {
     "cell_type": "code",
     "collapsed": false,
     "input": [
      "import networkx as nw"
     ],
     "language": "python",
     "metadata": {},
     "outputs": [],
     "prompt_number": 2
    },
    {
     "cell_type": "code",
     "collapsed": false,
     "input": [
      "import matplotlib.pyplot as plt"
     ],
     "language": "python",
     "metadata": {},
     "outputs": [],
     "prompt_number": 3
    },
    {
     "cell_type": "code",
     "collapsed": false,
     "input": [
      "# esse comando \u00e9 s\u00f3 para o matplotlib plotar diretamente dentro da linha de comando do ipython notebook\n",
      "%matplotlib inline"
     ],
     "language": "python",
     "metadata": {},
     "outputs": [],
     "prompt_number": 4
    },
    {
     "cell_type": "code",
     "collapsed": false,
     "input": [
      "# por enquanto, escolha sempre um grau par, ou seja, da forma 2*d\n",
      "degree = 2*2"
     ],
     "language": "python",
     "metadata": {},
     "outputs": [],
     "prompt_number": 5
    },
    {
     "cell_type": "code",
     "collapsed": false,
     "input": [
      "# por enquanto, escolha sempre um tamanho de grafo da forma n**2, pois estamos trabalhando com a malha 2D.\n",
      "# Depois, quando generalizarmos, vamos poder deixar de lado essa restri\u00e7\u00e3o.\n",
      "size = 5**2"
     ],
     "language": "python",
     "metadata": {},
     "outputs": [],
     "prompt_number": 6
    },
    {
     "cell_type": "code",
     "collapsed": false,
     "input": [
      "# tamb\u00e9m \u00e9 poss\u00edvel ler o grafo a partir de um arquivo que represente uma matriz de adjacencias.\n",
      "graph = nw.grid_2d_graph(int(np.sqrt(size)),int(np.sqrt(size)), periodic=False)"
     ],
     "language": "python",
     "metadata": {},
     "outputs": [],
     "prompt_number": 28
    },
    {
     "cell_type": "code",
     "collapsed": false,
     "input": [
      "graph = nw.convert_node_labels_to_integers(graph)"
     ],
     "language": "python",
     "metadata": {},
     "outputs": [],
     "prompt_number": 29
    },
    {
     "cell_type": "code",
     "collapsed": false,
     "input": [
      "nw.draw_spectral(graph)"
     ],
     "language": "python",
     "metadata": {},
     "outputs": [
      {
       "metadata": {},
       "output_type": "display_data",
       "png": "[encoded data removed]",
       "text": [
        "<matplotlib.figure.Figure at 0x7f5debe36898>"
       ]
      }
     ],
     "prompt_number": 30
    },
    {
     "cell_type": "markdown",
     "metadata": {},
     "source": [
      "O comando abaixo apenas define um estado auxiliar, que \u00e9 uma superposi\u00e7\u00e3o uniforme dos estados da base do espa\u00e7o-moeda. Ser\u00e1 \u00fatil na hora de definir a moeda de Grover."
     ]
    },
    {
     "cell_type": "code",
     "collapsed": false,
     "input": [
      "diagState = (1/np.sqrt(degree))*np.ones(degree).T; diagState"
     ],
     "language": "python",
     "metadata": {},
     "outputs": [
      {
       "metadata": {},
       "output_type": "pyout",
       "prompt_number": 10,
       "text": [
        "array([ 0.5,  0.5,  0.5,  0.5])"
       ]
      }
     ],
     "prompt_number": 10
    },
    {
     "cell_type": "markdown",
     "metadata": {},
     "source": [
      "Agora sim, definimos a matriz de Grover. Veja a defini\u00e7\u00e3o na minha tese de doutorado. A vantagem da moeda de Grover, no nosso caso, \u00e9 que pode ser aplicada a qualquer dimens\u00e3o, diferentemente de outras moedas, como Fourier ou Hadamard. Al\u00e9m disso, ela \u00e9 muito importante em algoritmos de busca."
     ]
    },
    {
     "cell_type": "code",
     "collapsed": false,
     "input": [
      "groverCoin = 2*np.outer(diagState, diagState) - np.eye(degree); groverCoin"
     ],
     "language": "python",
     "metadata": {},
     "outputs": [
      {
       "metadata": {},
       "output_type": "pyout",
       "prompt_number": 11,
       "text": [
        "array([[-0.5,  0.5,  0.5,  0.5],\n",
        "       [ 0.5, -0.5,  0.5,  0.5],\n",
        "       [ 0.5,  0.5, -0.5,  0.5],\n",
        "       [ 0.5,  0.5,  0.5, -0.5]])"
       ]
      }
     ],
     "prompt_number": 11
    },
    {
     "cell_type": "markdown",
     "metadata": {},
     "source": [
      "A matriz anterior atua somente no espa\u00e7o moeda. Para termos o operador moeda que atua no espa\u00e7o composto, ainda precisamos fazer o produto tensorial (a.k.a., produto de Kronecker) com o operador identidade que atua no espa\u00e7o posi\u00e7\u00e3o. Faremos isso a seguir:"
     ]
    },
    {
     "cell_type": "code",
     "collapsed": false,
     "input": [
      "Coin = np.kron(groverCoin, np.eye(size))"
     ],
     "language": "python",
     "metadata": {},
     "outputs": [],
     "prompt_number": 12
    },
    {
     "cell_type": "markdown",
     "metadata": {},
     "source": [
      "Agora vamos definir o operador deslocamento. Ele deve ter a forma $$|\\Psi \\rangle = \\sum_{i=0}^{\\mbox{size}-1} |c\\rangle \\langle c| \\otimes | x+c \\rangle \\langle x |,$$ em que $x+c$ denota o v\u00e9rtice que \u00e9 conectado a $x$ por meio da aresta $c$."
     ]
    },
    {
     "cell_type": "code",
     "collapsed": false,
     "input": [
      "Shift = np.zeros((degree*size, degree*size))"
     ],
     "language": "python",
     "metadata": {},
     "outputs": [],
     "prompt_number": 13
    },
    {
     "cell_type": "code",
     "collapsed": false,
     "input": [
      "for x in graph.nodes_iter():\n",
      "    \n",
      "    #esse if \u00e9 s\u00f3 um truque para desconsiderar as bordas, pois elas tem grau diferente.\n",
      "    if nw.degree(graph, nbunch=x) < 4:\n",
      "        print(x)\n",
      "        continue\n",
      "        \n",
      "    for c in range(degree):\n",
      "        neigh = graph.neighbors(x)\n",
      "        print('x=', x, ' n=', neigh[c])"
     ],
     "language": "python",
     "metadata": {},
     "outputs": [
      {
       "output_type": "stream",
       "stream": "stdout",
       "text": [
        "x= 0  n= 24\n",
        "x= 0  n= 19\n",
        "x= 0  n= 22\n",
        "x= 0  n= 6\n",
        "x= 1  n= 17\n",
        "x= 1  n= 10\n",
        "x= 1  n= 22\n",
        "x= 1  n= 15\n",
        "2\n",
        "3\n",
        "4\n",
        "5\n",
        "x= 6  n= 0\n",
        "x= 6  n= 12\n",
        "x= 6  n= 5\n",
        "x= 6  n= 7\n",
        "x= 7  n= 9\n",
        "x= 7  n= 22\n",
        "x= 7  n= 6\n",
        "x= 7  n= 15\n",
        "x= 8  n= 24\n",
        "x= 8  n= 17\n",
        "x= 8  n= 20\n",
        "x= 8  n= 22\n",
        "9\n",
        "10\n",
        "11\n",
        "12\n",
        "13\n",
        "14\n",
        "x= 15  n= 1\n",
        "x= 15  n= 23\n",
        "x= 15  n= 21\n",
        "x= 15  n= 7\n",
        "16\n",
        "x= 17  n= 8\n",
        "x= 17  n= 1\n",
        "x= 17  n= 3\n",
        "x= 17  n= 16\n",
        "18\n",
        "19\n",
        "20\n",
        "21\n",
        "x= 22  n= 0\n",
        "x= 22  n= 1\n",
        "x= 22  n= 8\n",
        "x= 22  n= 7\n",
        "23\n",
        "x= 24  n= 0\n",
        "x= 24  n= 8\n",
        "x= 24  n= 11\n",
        "x= 24  n= 14\n"
       ]
      }
     ],
     "prompt_number": 36
    },
    {
     "cell_type": "code",
     "collapsed": false,
     "input": [],
     "language": "python",
     "metadata": {},
     "outputs": []
    },
    {
     "cell_type": "code",
     "collapsed": false,
     "input": [],
     "language": "python",
     "metadata": {},
     "outputs": []
    }
   ],
   "metadata": {}
  }
 ]
}